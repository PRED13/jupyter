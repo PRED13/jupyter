{
 "cells": [
  {
   "cell_type": "code",
   "execution_count": null,
   "id": "838653ca-46fa-40bd-a6e7-3b56d4fd5f6d",
   "metadata": {},
   "outputs": [],
   "source": [
    "!pip install docxtpl -q"
   ]
  },
  {
   "cell_type": "code",
   "execution_count": null,
   "id": "db0a4696-1160-4f06-b9e6-9c68b7617607",
   "metadata": {},
   "outputs": [],
   "source": [
    "import pandas as pd\n",
    "from datetime import datetime\n",
    "from docxtpl import DocxTemplate"
   ]
  },
  {
   "cell_type": "code",
   "execution_count": null,
   "id": "8d66b525-4d19-47ba-b173-db05d89fd3d5",
   "metadata": {},
   "outputs": [],
   "source": [
    "doc = DocxTemplate(\"plantilla.docx\")"
   ]
  },
  {
   "cell_type": "code",
   "execution_count": null,
   "id": "8fa11710-cab5-456e-95d2-114af9ab9692",
   "metadata": {},
   "outputs": [],
   "source": [
    "nombre = \"juan carlos\"\n",
    "telefono = \"123 456 789\"\n",
    "correo = \"ejemplo@gmail.com\"\n",
    "fecha = datetime.today().strftime(\"%d/%m/%Y\")"
   ]
  },
  {
   "cell_type": "code",
   "execution_count": null,
   "id": "f0adeb9c-072b-45a4-b6a0-26a81077a417",
   "metadata": {},
   "outputs": [],
   "source": [
    "print(fecha)"
   ]
  },
  {
   "cell_type": "code",
   "execution_count": null,
   "id": "c87a063a-a594-4de8-8256-9d6a23ff1be8",
   "metadata": {},
   "outputs": [],
   "source": [
    "constantes = {\"nombre\": nombre, \"telefono\": telefono, \"correo\": correo,\n",
    "              \"fecha\": fecha}"
   ]
  },
  {
   "cell_type": "code",
   "execution_count": null,
   "id": "0beee11e-3448-4059-8241-b28665aa1fc4",
   "metadata": {},
   "outputs": [],
   "source": [
    "print(constantes)"
   ]
  },
  {
   "cell_type": "code",
   "execution_count": null,
   "id": "79f4712b-edd7-46e4-afc8-91125c932bcc",
   "metadata": {},
   "outputs": [],
   "source": [
    "df = pd.read_exel(personas.xls)"
   ]
  },
  {
   "cell_type": "code",
   "execution_count": null,
   "id": "44e96c6c-8722-4dae-90c8-63ff290b3323",
   "metadata": {},
   "outputs": [],
   "source": [
    "for indice, fila in df.interrows():\n",
    "    contenido = {\n",
    "            \"personas\":fila[\"nombre de la persona\"],\n",
    "            \"notas_1\": fila[\"rt\"],\n",
    "            \"notas_2\": fila[\"mt\"],\n",
    "            \"notas_3\": fila[\"st\"],\n",
    "    }\n",
    "    contenido.update(constantes)\n",
    "    doc.render(contenido)\n",
    "    doc.save(f\"notas_de_{fila[nombre de la persona]}.docx\")\n",
    "    print (contenido)"
   ]
  },
  {
   "cell_type": "code",
   "execution_count": null,
   "id": "d875fa89-8298-4b63-a683-fe516a9465e6",
   "metadata": {},
   "outputs": [],
   "source": [
    "doc.render(constantes)\n",
    "doc.save(f\"prueba.docx\")"
   ]
  }
 ],
 "metadata": {
  "kernelspec": {
   "display_name": "Python 3 (ipykernel)",
   "language": "python",
   "name": "python3"
  },
  "language_info": {
   "codemirror_mode": {
    "name": "ipython",
    "version": 3
   },
   "file_extension": ".py",
   "mimetype": "text/x-python",
   "name": "python",
   "nbconvert_exporter": "python",
   "pygments_lexer": "ipython3",
   "version": "3.11.5"
  }
 },
 "nbformat": 4,
 "nbformat_minor": 5
}
