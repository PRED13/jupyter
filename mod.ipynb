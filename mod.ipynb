{
 "cells": [
  {
   "cell_type": "code",
   "execution_count": null,
   "metadata": {},
   "outputs": [],
   "source": [
    "import numpy as np\n",
    "from python_tsp.exact import solve_tsp_dynamic_programming\n",
    "\n",
    "# Pedir las dimensiones de la matriz (filas y columnas)\n",
    "filas = int(input(\"Introduce el número de filas de la matriz: \"))\n",
    "columnas = int(input(\"Introduce el número de columnas de la matriz: \"))\n",
    "\n",
    "# Verificar si la matriz es cuadrada (para el problema del vendedor viajero)\n",
    "if filas != columnas:\n",
    "    print(\"La matriz debe ser cuadrada para resolver el problema del vendedor viajero.\")\n",
    "else:\n",
    "    # Crear la matriz de distancias vacía\n",
    "    distancia_matriz = np.zeros((filas, columnas))\n",
    "\n",
    "    # Pedir los valores de la matriz\n",
    "    print(f\"Introduce los valores de la matriz {filas}x{columnas}, fila por fila:\")\n",
    "    for i in range(filas):\n",
    "        for j in range(columnas):\n",
    "            if i == j:\n",
    "                distancia_matriz[i, j] = 0  # La distancia de un nodo a sí mismo es 0\n",
    "            else:\n",
    "                distancia_matriz[i, j] = int(input(f\"Distancia de {i+1} a {j+1}: \"))\n",
    "\n",
    "    # Resolver el problema del vendedor viajero\n",
    "    ruta, distancia = solve_tsp_dynamic_programming(distancia_matriz)\n",
    "    ruta = np.array(ruta)  # Convertimos la ruta en un array de NumPy\n",
    "\n",
    "    # Mostrar los resultados\n",
    "    print(\"La ruta más corta es:\", ruta + 1)  # Sumamos 1 para que la numeración empiece en 1\n",
    "    print(\"La distancia total es:\", distancia)\n"
   ]
  }
 ],
 "metadata": {
  "kernelspec": {
   "display_name": "venv",
   "language": "python",
   "name": "python3"
  },
  "language_info": {
   "codemirror_mode": {
    "name": "ipython",
    "version": 3
   },
   "file_extension": ".py",
   "mimetype": "text/x-python",
   "name": "python",
   "nbconvert_exporter": "python",
   "pygments_lexer": "ipython3",
   "version": "3.11.9"
  }
 },
 "nbformat": 4,
 "nbformat_minor": 2
}
