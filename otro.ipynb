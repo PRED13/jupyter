{
 "cells": [
  {
   "cell_type": "code",
   "execution_count": 1,
   "metadata": {},
   "outputs": [
    {
     "name": "stdout",
     "output_type": "stream",
     "text": [
      "La ruta más corta es: [0 5 2 4 6 3 1] La distancia es: 180\n"
     ]
    }
   ],
   "source": [
    "import numpy as np\n",
    "from python_tsp.exact import solve_tsp_dynamic_programming\n",
    "\n",
    "distancia_matriz = np.array([\n",
    "    [0, 13, 23, 46, 17, 14, 19],\n",
    "    [26, 0, 29, 34, 38, 40, 43],\n",
    "    [25, 34, 0, 18, 25, 27, 41],\n",
    "    [31, 30, 35, 0, 36, 37, 38],\n",
    "    [23, 21, 23, 23, 0, 22, 27],\n",
    "    [31, 33, 34, 33, 37, 0, 39],\n",
    "    [30, 34, 37, 24, 40, 50, 0]\n",
    "])\n",
    "\n",
    "ruta, distancia = solve_tsp_dynamic_programming(distancia_matriz)\n",
    "ruta = np.array(ruta)  # Convertimos la ruta en un array de NumPy\n",
    "\n",
    "print(\"La ruta más corta es:\", ruta, \"La distancia es:\", distancia)\n"
   ]
  }
 ],
 "metadata": {
  "kernelspec": {
   "display_name": "venv",
   "language": "python",
   "name": "python3"
  },
  "language_info": {
   "codemirror_mode": {
    "name": "ipython",
    "version": 3
   },
   "file_extension": ".py",
   "mimetype": "text/x-python",
   "name": "python",
   "nbconvert_exporter": "python",
   "pygments_lexer": "ipython3",
   "version": "3.11.9"
  }
 },
 "nbformat": 4,
 "nbformat_minor": 2
}
